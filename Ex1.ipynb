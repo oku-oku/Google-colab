{
  "nbformat": 4,
  "nbformat_minor": 0,
  "metadata": {
    "colab": {
      "provenance": []
    },
    "kernelspec": {
      "name": "python3",
      "display_name": "Python 3"
    },
    "language_info": {
      "name": "python"
    }
  },
  "cells": [
    {
      "cell_type": "code",
      "execution_count": null,
      "metadata": {
        "colab": {
          "base_uri": "https://localhost:8080/"
        },
        "id": "Fkt25qHVAnI1",
        "outputId": "61aaeb40-2434-42ff-cd4a-82ebc41d3a1a"
      },
      "outputs": [
        {
          "output_type": "stream",
          "name": "stdout",
          "text": [
            "あなたの名前は何ですか？ 山本\n",
            "こんにちは、山本さん！\n",
            "あなたの名前は何ですか？ 山本\n",
            "こんにちは、山本さん！\n",
            "生年月日を入力してください（例: yyyy-mm-dd）: 1983-07-18\n",
            "山本さんの星座は蟹座です！\n"
          ]
        }
      ],
      "source": [
        "# ユーザーに名前を尋ねる関数\n",
        "def ask_for_name():\n",
        "    name = input(\"あなたの名前は何ですか？ \")\n",
        "    return name\n",
        "\n",
        "# 挨拶メッセージを表示する関数\n",
        "def greet_user(name):\n",
        "    print(f\"こんにちは、{name}さん！\")\n",
        "\n",
        "# メインの対話型アプリ関数\n",
        "def interactive_greeting_app():\n",
        "    name = ask_for_name()\n",
        "    greet_user(name)\n",
        "\n",
        "# アプリを実行\n",
        "interactive_greeting_app()\n",
        "\n",
        "from datetime import datetime\n",
        "\n",
        "# ユーザーに生年月日を尋ねる関数\n",
        "def ask_for_birthdate():\n",
        "    birthdate_str = input(\"生年月日を入力してください（例: yyyy-mm-dd）: \")\n",
        "    try:\n",
        "        birthdate = datetime.strptime(birthdate_str, \"%Y-%m-%d\")\n",
        "        return birthdate\n",
        "    except ValueError:\n",
        "        print(\"正しい形式で入力してください（例: yyyy-mm-dd）\")\n",
        "        return ask_for_birthdate()\n",
        "\n",
        "# 星座を取得する関数\n",
        "def get_zodiac_sign(birthdate):\n",
        "    if (3, 21) <= (birthdate.month, birthdate.day) <= (4, 19):\n",
        "        return \"牡羊座\"\n",
        "    elif (4, 20) <= (birthdate.month, birthdate.day) <= (5, 20):\n",
        "        return \"牡牛座\"\n",
        "    elif (5, 21) <= (birthdate.month, birthdate.day) <= (6, 20):\n",
        "        return \"双子座\"\n",
        "    elif (6, 21) <= (birthdate.month, birthdate.day) <= (7, 20):\n",
        "        return \"蟹座\"\n",
        "    elif (7, 20) <= (birthdate.month, birthdate.day) <= (8, 20):\n",
        "        return \"獅子座\"\n",
        "    elif (8, 21) <= (birthdate.month, birthdate.day) <= (9, 20):\n",
        "        return \"乙女座\"\n",
        "    elif (9, 21) <= (birthdate.month, birthdate.day) <= (10, 20):\n",
        "        return \"天秤座\"\n",
        "    elif (10, 21) <= (birthdate.month, birthdate.day) <= (11, 20):\n",
        "        return \"蠍座\"\n",
        "    elif (11, 21) <= (birthdate.month, birthdate.day) <= (12, 20):\n",
        "        return \"射手座\"\n",
        "    elif (12, 21) <= (birthdate.month, birthdate.day) <= (1, 20):\n",
        "        return \"山羊座\"\n",
        "    elif (1, 21) <= (birthdate.month, birthdate.day) <= (2, 20):\n",
        "        return \"水瓶座\"\n",
        "    elif (2, 21) <= (birthdate.month, birthdate.day) <= (3, 20):\n",
        "        return \"魚座\"\n",
        "\n",
        "# メインの対話型アプリ関数\n",
        "def interactive_greeting_app():\n",
        "    name = ask_for_name()\n",
        "    greet_user(name)\n",
        "\n",
        "    birthdate = ask_for_birthdate()\n",
        "    zodiac_sign = get_zodiac_sign(birthdate)\n",
        "    print(f\"{name}さんの星座は{zodiac_sign}です！\")\n",
        "\n",
        "# アプリを実行\n",
        "interactive_greeting_app()\n",
        "\n"
      ]
    },
    {
      "cell_type": "code",
      "source": [],
      "metadata": {
        "id": "RshLMYfPArbm"
      },
      "execution_count": null,
      "outputs": []
    }
  ]
}